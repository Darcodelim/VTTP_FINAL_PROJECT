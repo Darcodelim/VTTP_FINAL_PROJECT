{
 "cells": [
  {
   "cell_type": "code",
   "execution_count": 2,
   "metadata": {},
   "outputs": [
    {
     "name": "stdout",
     "output_type": "stream",
     "text": [
      "{'AKT', 'KEV', 'KAU'}\n"
     ]
    }
   ],
   "source": [
    "import pandas as pd\n",
    "\n",
    "df1Source = 'C:\\\\2nd Partition\\\\VTTP\\\\NUS-ISS\\\\Final Project\\\\Data\\\\airport-codes_zip\\\\data\\\\airport-codes_csv_utf-8.csv'\n",
    "df4Source ='C:\\\\2nd Partition\\\\VTTP\\\\NUS-ISS\\\\Final Project\\\\Data\\\\merged_data_utf-8.csv'\n",
    "\n",
    "df1 = pd.read_csv(df1Source)\n",
    "df4 = pd.read_csv(df4Source)\n",
    "\n",
    "airportListOri = df1['iata_code'].tolist()\n",
    "airportSet = set(airportListOri)\n",
    "\n",
    "airportList = df4['iata_code'].tolist()\n",
    "aiportSet2 = set(airportList)\n",
    "\n",
    "missing = airportSet.difference(aiportSet2)\n",
    "\n",
    "print(missing)\n"
   ]
  }
 ],
 "metadata": {
  "kernelspec": {
   "display_name": "base",
   "language": "python",
   "name": "python3"
  },
  "language_info": {
   "codemirror_mode": {
    "name": "ipython",
    "version": 3
   },
   "file_extension": ".py",
   "mimetype": "text/x-python",
   "name": "python",
   "nbconvert_exporter": "python",
   "pygments_lexer": "ipython3",
   "version": "3.11.4"
  }
 },
 "nbformat": 4,
 "nbformat_minor": 2
}
